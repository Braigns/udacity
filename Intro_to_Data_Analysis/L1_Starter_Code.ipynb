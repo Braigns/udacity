{
 "cells": [
  {
   "cell_type": "markdown",
   "metadata": {},
   "source": [
    "Before we get started, a couple of reminders to keep in mind when using iPython notebooks:\n",
    "\n",
    "- Remember that you can see from the left side of a code cell when it was last run if there is a number within the brackets.\n",
    "- When you start a new notebook session, make sure you run all of the cells up to the point where you last left off. Even if the output is still visible from when you ran the cells in your previous session, the kernel starts in a fresh state so you'll need to reload the data, etc. on a new session.\n",
    "- The previous point is useful to keep in mind if your answers do not match what is expected in the lesson's quizzes. Try reloading the data and run all of the processing steps one by one in order to make sure that you are working with the same variables and data that are at each quiz stage.\n",
    "\n",
    "\n",
    "## Load Data from CSVs"
   ]
  },
  {
   "cell_type": "code",
   "execution_count": 148,
   "metadata": {
    "collapsed": true
   },
   "outputs": [],
   "source": [
    "import unicodecsv\n",
    "\n",
    "## Longer version of code (replaced with shorter, equivalent version below)\n",
    "\n",
    "# enrollments = []\n",
    "# f = open('enrollments.csv', 'rb')\n",
    "# reader = unicodecsv.DictReader(f)\n",
    "# for row in reader:\n",
    "#     enrollments.append(row)\n",
    "# f.close()\n",
    "\n",
    "with open('enrollments.csv', 'rb') as f:\n",
    "    reader = unicodecsv.DictReader(f)\n",
    "    enrollments = list(reader)"
   ]
  },
  {
   "cell_type": "code",
   "execution_count": 149,
   "metadata": {
    "collapsed": false
   },
   "outputs": [
    {
     "name": "stdout",
     "output_type": "stream",
     "text": [
      "{u'lessons_completed': u'0.0', u'num_courses_visited': u'1.0', u'total_minutes_visited': u'11.6793745', u'projects_completed': u'0.0', u'acct': u'0', u'utc_date': u'2015-01-09'} \n",
      "\n",
      "{u'lesson_key': u'3176718735', u'processing_state': u'EVALUATED', u'account_key': u'256', u'assigned_rating': u'UNGRADED', u'completion_date': u'2015-01-16', u'creation_date': u'2015-01-14'}\n"
     ]
    }
   ],
   "source": [
    "#####################################\n",
    "#                 1                 #\n",
    "#####################################\n",
    "\n",
    "## Read in the data from daily_engagement.csv and project_submissions.csv \n",
    "## and store the results in the below variables.\n",
    "## Then look at the first row of each table.\n",
    "\n",
    "engagement_filename = 'daily_engagement.csv'\n",
    "submissions_filename = 'project_submissions.csv'\n",
    "\n",
    "with open(engagement_filename, 'rb') as f:\n",
    "    daily_engagement = list(unicodecsv.DictReader(f))\n",
    "    \n",
    "with open(submissions_filename, 'rb') as f:\n",
    "    project_submissions = list(unicodecsv.DictReader(f))\n",
    "    \n",
    "print daily_engagement[0], \"\\n\"\n",
    "\n",
    "print project_submissions[0]"
   ]
  },
  {
   "cell_type": "markdown",
   "metadata": {},
   "source": [
    "## Fixing Data Types"
   ]
  },
  {
   "cell_type": "code",
   "execution_count": 150,
   "metadata": {
    "collapsed": false
   },
   "outputs": [
    {
     "data": {
      "text/plain": [
       "{u'account_key': u'448',\n",
       " u'cancel_date': datetime.datetime(2015, 1, 14, 0, 0),\n",
       " u'days_to_cancel': 65,\n",
       " u'is_canceled': True,\n",
       " u'is_udacity': True,\n",
       " u'join_date': datetime.datetime(2014, 11, 10, 0, 0),\n",
       " u'status': u'canceled'}"
      ]
     },
     "execution_count": 150,
     "metadata": {},
     "output_type": "execute_result"
    }
   ],
   "source": [
    "from datetime import datetime as dt\n",
    "\n",
    "# Takes a date as a string, and returns a Python datetime object. \n",
    "# If there is no date given, returns None\n",
    "def parse_date(date):\n",
    "    if date == '':\n",
    "        return None\n",
    "    else:\n",
    "        return dt.strptime(date, '%Y-%m-%d')\n",
    "    \n",
    "# Takes a string which is either an empty string or represents an integer,\n",
    "# and returns an int or None.\n",
    "def parse_maybe_int(i):\n",
    "    if i == '':\n",
    "        return None\n",
    "    else:\n",
    "        return int(i)\n",
    "\n",
    "# Clean up the data types in the enrollments table\n",
    "for enrollment in enrollments:\n",
    "    enrollment['cancel_date'] = parse_date(enrollment['cancel_date'])\n",
    "    enrollment['days_to_cancel'] = parse_maybe_int(enrollment['days_to_cancel'])\n",
    "    enrollment['is_canceled'] = enrollment['is_canceled'] == 'True'\n",
    "    enrollment['is_udacity'] = enrollment['is_udacity'] == 'True'\n",
    "    enrollment['join_date'] = parse_date(enrollment['join_date'])\n",
    "    \n",
    "enrollments[0]"
   ]
  },
  {
   "cell_type": "code",
   "execution_count": 151,
   "metadata": {
    "collapsed": false
   },
   "outputs": [
    {
     "data": {
      "text/plain": [
       "{u'acct': u'0',\n",
       " u'lessons_completed': 0,\n",
       " u'num_courses_visited': 1,\n",
       " u'projects_completed': 0,\n",
       " u'total_minutes_visited': 11.6793745,\n",
       " u'utc_date': datetime.datetime(2015, 1, 9, 0, 0)}"
      ]
     },
     "execution_count": 151,
     "metadata": {},
     "output_type": "execute_result"
    }
   ],
   "source": [
    "# Clean up the data types in the engagement table\n",
    "for engagement_record in daily_engagement:\n",
    "    engagement_record['lessons_completed'] = int(float(engagement_record['lessons_completed']))\n",
    "    engagement_record['num_courses_visited'] = int(float(engagement_record['num_courses_visited']))\n",
    "    engagement_record['projects_completed'] = int(float(engagement_record['projects_completed']))\n",
    "    engagement_record['total_minutes_visited'] = float(engagement_record['total_minutes_visited'])\n",
    "    engagement_record['utc_date'] = parse_date(engagement_record['utc_date'])\n",
    "    \n",
    "daily_engagement[0]"
   ]
  },
  {
   "cell_type": "code",
   "execution_count": 152,
   "metadata": {
    "collapsed": false
   },
   "outputs": [
    {
     "data": {
      "text/plain": [
       "{u'account_key': u'256',\n",
       " u'assigned_rating': u'UNGRADED',\n",
       " u'completion_date': datetime.datetime(2015, 1, 16, 0, 0),\n",
       " u'creation_date': datetime.datetime(2015, 1, 14, 0, 0),\n",
       " u'lesson_key': u'3176718735',\n",
       " u'processing_state': u'EVALUATED'}"
      ]
     },
     "execution_count": 152,
     "metadata": {},
     "output_type": "execute_result"
    }
   ],
   "source": [
    "# Clean up the data types in the submissions table\n",
    "for submission in project_submissions:\n",
    "    submission['completion_date'] = parse_date(submission['completion_date'])\n",
    "    submission['creation_date'] = parse_date(submission['creation_date'])\n",
    "\n",
    "project_submissions[0]"
   ]
  },
  {
   "cell_type": "markdown",
   "metadata": {},
   "source": [
    "Note when running the above cells that we are actively changing the contents of our data variables. If you try to run these cells multiple times in the same session, an error will occur.\n",
    "\n",
    "## Investigating the Data"
   ]
  },
  {
   "cell_type": "code",
   "execution_count": 153,
   "metadata": {
    "collapsed": false
   },
   "outputs": [
    {
     "name": "stdout",
     "output_type": "stream",
     "text": [
      "enrollment: 1640 1302 \n",
      "\n",
      "engagement: 136240 1237 \n",
      "\n",
      "submissions: 3642 743 \n",
      "\n"
     ]
    }
   ],
   "source": [
    "#####################################\n",
    "#                 2                 #\n",
    "#####################################\n",
    "\n",
    "## Find the total number of rows and the number of unique students (account keys)\n",
    "## in each table.\n",
    "\n",
    "# enrollments\n",
    "enrollment_num_rows = len(enrollments)\n",
    "enrollment_set = {enrollment['account_key'] for enrollment in enrollments}\n",
    "enrollment_num_unique_students = len(enrollment_set)\n",
    "print \"enrollment:\", enrollment_num_rows, enrollment_num_unique_students, \"\\n\"\n",
    "\n",
    "# daily_engagement\n",
    "engagement_num_rows = len(daily_engagement)\n",
    "engagement_set = {engagement['acct'] for engagement in daily_engagement}\n",
    "engagement_num_unique_students = len(engagement_set)\n",
    "print \"engagement:\", engagement_num_rows, engagement_num_unique_students, \"\\n\"\n",
    "\n",
    "# project_submissions\n",
    "submission_num_rows = len(project_submissions)\n",
    "submission_set = {submission['account_key'] for submission in project_submissions}\n",
    "submission_num_unique_students = len(submission_set)\n",
    "print \"submissions:\", submission_num_rows, submission_num_unique_students, \"\\n\""
   ]
  },
  {
   "cell_type": "markdown",
   "metadata": {},
   "source": [
    "## Problems in the Data"
   ]
  },
  {
   "cell_type": "code",
   "execution_count": 154,
   "metadata": {
    "collapsed": false
   },
   "outputs": [
    {
     "data": {
      "text/plain": [
       "u'0'"
      ]
     },
     "execution_count": 154,
     "metadata": {},
     "output_type": "execute_result"
    }
   ],
   "source": [
    "#####################################\n",
    "#                 3                 #\n",
    "#####################################\n",
    "\n",
    "## Rename the \"acct\" column in the daily_engagement table to \"account_key\".\n",
    "for engagement in daily_engagement:\n",
    "    engagement['account_key'] = engagement.pop('acct')\n",
    "    \n",
    "daily_engagement[0]['account_key']"
   ]
  },
  {
   "cell_type": "markdown",
   "metadata": {},
   "source": [
    "## Missing Engagement Records"
   ]
  },
  {
   "cell_type": "code",
   "execution_count": 155,
   "metadata": {
    "collapsed": false
   },
   "outputs": [
    {
     "name": "stdout",
     "output_type": "stream",
     "text": [
      "{u'status': u'canceled', u'is_udacity': False, u'is_canceled': True, u'join_date': datetime.datetime(2014, 11, 12, 0, 0), u'account_key': u'1219', u'cancel_date': datetime.datetime(2014, 11, 12, 0, 0), u'days_to_cancel': 0}\n"
     ]
    }
   ],
   "source": [
    "#####################################\n",
    "#                 4                 #\n",
    "#####################################\n",
    "\n",
    "## Find any one student enrollments where the student is missing from the daily engagement table.\n",
    "## Output that enrollment.\n",
    "for enrolled in enrollments:\n",
    "    if enrolled['account_key'] not in engagement_set:\n",
    "        print enrolled\n",
    "        break"
   ]
  },
  {
   "cell_type": "markdown",
   "metadata": {},
   "source": [
    "## Checking for More Problem Records"
   ]
  },
  {
   "cell_type": "code",
   "execution_count": 156,
   "metadata": {
    "collapsed": false
   },
   "outputs": [
    {
     "name": "stdout",
     "output_type": "stream",
     "text": [
      "{u'status': u'canceled', u'is_udacity': True, u'is_canceled': True, u'join_date': datetime.datetime(2015, 1, 10, 0, 0), u'account_key': u'1304', u'cancel_date': datetime.datetime(2015, 3, 10, 0, 0), u'days_to_cancel': 59} \n",
      "\n",
      "{u'status': u'canceled', u'is_udacity': True, u'is_canceled': True, u'join_date': datetime.datetime(2015, 3, 10, 0, 0), u'account_key': u'1304', u'cancel_date': datetime.datetime(2015, 6, 17, 0, 0), u'days_to_cancel': 99} \n",
      "\n",
      "{u'status': u'current', u'is_udacity': True, u'is_canceled': False, u'join_date': datetime.datetime(2015, 2, 25, 0, 0), u'account_key': u'1101', u'cancel_date': None, u'days_to_cancel': None} \n",
      "\n",
      "3\n"
     ]
    }
   ],
   "source": [
    "#####################################\n",
    "#                 5                 #\n",
    "#####################################\n",
    "\n",
    "## Find the number of surprising data points (enrollments missing from\n",
    "## the engagement table) that remain, if any.\n",
    "surprises = 0\n",
    "for enrolled in enrollments:\n",
    "    if enrolled['account_key'] not in engagement_set and enrolled['days_to_cancel'] != 0:\n",
    "        surprises += 1\n",
    "        print enrolled, \"\\n\"\n",
    "        \n",
    "print surprises"
   ]
  },
  {
   "cell_type": "markdown",
   "metadata": {},
   "source": [
    "## Tracking Down the Remaining Problems"
   ]
  },
  {
   "cell_type": "code",
   "execution_count": 157,
   "metadata": {
    "collapsed": false
   },
   "outputs": [
    {
     "data": {
      "text/plain": [
       "6"
      ]
     },
     "execution_count": 157,
     "metadata": {},
     "output_type": "execute_result"
    }
   ],
   "source": [
    "# Create a set of the account keys for all Udacity test accounts\n",
    "udacity_test_accounts = set()\n",
    "for enrollment in enrollments:\n",
    "    if enrollment['is_udacity']:\n",
    "        udacity_test_accounts.add(enrollment['account_key'])\n",
    "len(udacity_test_accounts)"
   ]
  },
  {
   "cell_type": "code",
   "execution_count": 158,
   "metadata": {
    "collapsed": true
   },
   "outputs": [],
   "source": [
    "# Given some data with an account_key field, removes any records corresponding to Udacity test accounts\n",
    "def remove_udacity_accounts(data):\n",
    "    non_udacity_data = []\n",
    "    for data_point in data:\n",
    "        if data_point['account_key'] not in udacity_test_accounts:\n",
    "            non_udacity_data.append(data_point)\n",
    "    return non_udacity_data"
   ]
  },
  {
   "cell_type": "code",
   "execution_count": 159,
   "metadata": {
    "collapsed": false
   },
   "outputs": [
    {
     "name": "stdout",
     "output_type": "stream",
     "text": [
      "1622\n",
      "135656\n",
      "3634\n"
     ]
    }
   ],
   "source": [
    "# Remove Udacity test accounts from all three tables\n",
    "non_udacity_enrollments = remove_udacity_accounts(enrollments)\n",
    "non_udacity_engagement = remove_udacity_accounts(daily_engagement)\n",
    "non_udacity_submissions = remove_udacity_accounts(project_submissions)\n",
    "\n",
    "print len(non_udacity_enrollments)\n",
    "print len(non_udacity_engagement)\n",
    "print len(non_udacity_submissions)"
   ]
  },
  {
   "cell_type": "markdown",
   "metadata": {},
   "source": [
    "## Refining the Question"
   ]
  },
  {
   "cell_type": "code",
   "execution_count": 160,
   "metadata": {
    "collapsed": false
   },
   "outputs": [
    {
     "name": "stdout",
     "output_type": "stream",
     "text": [
      "995\n"
     ]
    }
   ],
   "source": [
    "#####################################\n",
    "#                 6                 #\n",
    "#####################################\n",
    "\n",
    "## Create a dictionary named paid_students containing all students who either\n",
    "## haven't canceled yet or who remained enrolled for more than 7 days. The keys\n",
    "## should be account keys, and the values should be the date the student enrolled.\n",
    "\n",
    "paid_students = {}\n",
    "\n",
    "for enrollment in enrollments:\n",
    "    if (not enrollment['cancel_date'] or enrollment['days_to_cancel'] > 7) and not enrollment['is_udacity']:\n",
    "        if (enrollment['account_key'] not in paid_students or enrollment['join_date'] > paid_students[enrollment['account_key']]):\n",
    "            paid_students[enrollment['account_key']] = enrollment['join_date']\n",
    "        \n",
    "print len(paid_students)"
   ]
  },
  {
   "cell_type": "markdown",
   "metadata": {},
   "source": [
    "## Getting Data from First Week"
   ]
  },
  {
   "cell_type": "code",
   "execution_count": 167,
   "metadata": {
    "collapsed": false
   },
   "outputs": [],
   "source": [
    "# Takes a student's join date and the date of a specific engagement record,\n",
    "# and returns True if that engagement record happened within one week\n",
    "# of the student joining.\n",
    "def within_one_week(join_date, engagement_date):\n",
    "    time_delta = engagement_date - join_date\n",
    "    return (0 <= time_delta.days < 7)"
   ]
  },
  {
   "cell_type": "code",
   "execution_count": 164,
   "metadata": {
    "collapsed": false
   },
   "outputs": [
    {
     "name": "stdout",
     "output_type": "stream",
     "text": [
      "6919\n"
     ]
    }
   ],
   "source": [
    "#####################################\n",
    "#                 7                 #\n",
    "#####################################\n",
    "\n",
    "## Create a list of rows from the engagement table including only rows where\n",
    "## the student is one of the paid students you just found, and the date is within\n",
    "## one week of the student's join date.\n",
    "\n",
    "paid_engagement_in_first_week = []\n",
    "\n",
    "for x in daily_engagement:\n",
    "    if x['account_key'] in paid_students.keys():\n",
    "        if 0 <= (x['utc_date']-paid_students[x['account_key']]).days < 7:\n",
    "            paid_engagement_in_first_week.append(x)\n",
    "            \n",
    "print len(paid_engagement_in_first_week)"
   ]
  },
  {
   "cell_type": "code",
   "execution_count": 166,
   "metadata": {
    "collapsed": false
   },
   "outputs": [
    {
     "name": "stdout",
     "output_type": "stream",
     "text": [
      "1293\n",
      "134549\n",
      "3618\n"
     ]
    },
    {
     "data": {
      "text/plain": [
       "6919"
      ]
     },
     "execution_count": 166,
     "metadata": {},
     "output_type": "execute_result"
    }
   ],
   "source": [
    "## From the instructor\n",
    "def within_one_week(join_date, engagement_date):\n",
    "    time_delta = engagement_date - join_date\n",
    "    return (0 <= time_delta.days < 7)\n",
    "\n",
    "def remove_free_trial_cancels(data):\n",
    "    new_data = []\n",
    "    for data_point in data:\n",
    "        if data_point['account_key'] in paid_students:\n",
    "            new_data.append(data_point)\n",
    "    return new_data\n",
    "\n",
    "paid_enrollments = remove_free_trial_cancels(non_udacity_enrollments)\n",
    "paid_engagement = remove_free_trial_cancels(non_udacity_engagement)\n",
    "paid_submissions = remove_free_trial_cancels(non_udacity_submissions)\n",
    "\n",
    "print len(paid_enrollments)\n",
    "print len(paid_engagement)\n",
    "print len(paid_submissions)\n",
    "\n",
    "paid_engagement_in_first_week = []\n",
    "for engagement_record in paid_engagement:\n",
    "    account_key = engagement_record['account_key']\n",
    "    join_date = paid_students[account_key]\n",
    "    engagement_record_date = engagement_record['utc_date']\n",
    "\n",
    "    if within_one_week(join_date, engagement_record_date):\n",
    "        paid_engagement_in_first_week.append(engagement_record)\n",
    "\n",
    "len(paid_engagement_in_first_week)"
   ]
  },
  {
   "cell_type": "markdown",
   "metadata": {},
   "source": [
    "## Exploring Student Engagement"
   ]
  },
  {
   "cell_type": "code",
   "execution_count": 168,
   "metadata": {
    "collapsed": true
   },
   "outputs": [],
   "source": [
    "from collections import defaultdict\n",
    "\n",
    "# Create a dictionary of engagement grouped by student.\n",
    "# The keys are account keys, and the values are lists of engagement records.\n",
    "engagement_by_account = defaultdict(list)\n",
    "for engagement_record in paid_engagement_in_first_week:\n",
    "    account_key = engagement_record['account_key']\n",
    "    engagement_by_account[account_key].append(engagement_record)"
   ]
  },
  {
   "cell_type": "code",
   "execution_count": 169,
   "metadata": {
    "collapsed": false
   },
   "outputs": [],
   "source": [
    "# Create a dictionary with the total minutes each student spent in the classroom during the first week.\n",
    "# The keys are account keys, and the values are numbers (total minutes)\n",
    "total_minutes_by_account = {}\n",
    "for account_key, engagement_for_student in engagement_by_account.items():\n",
    "    total_minutes = 0\n",
    "    for engagement_record in engagement_for_student:\n",
    "        total_minutes += engagement_record['total_minutes_visited']\n",
    "    total_minutes_by_account[account_key] = total_minutes"
   ]
  },
  {
   "cell_type": "code",
   "execution_count": 170,
   "metadata": {
    "collapsed": false
   },
   "outputs": [
    {
     "name": "stdout",
     "output_type": "stream",
     "text": [
      "Mean: 306.708326753\n",
      "Standard deviation: 412.996933409\n",
      "Minimum: 0.0\n",
      "Maximum: 3564.7332645\n"
     ]
    }
   ],
   "source": [
    "import numpy as np\n",
    "\n",
    "# Summarize the data about minutes spent in the classroom\n",
    "total_minutes = total_minutes_by_account.values()\n",
    "print 'Mean:', np.mean(total_minutes)\n",
    "print 'Standard deviation:', np.std(total_minutes)\n",
    "print 'Minimum:', np.min(total_minutes)\n",
    "print 'Maximum:', np.max(total_minutes)"
   ]
  },
  {
   "cell_type": "markdown",
   "metadata": {},
   "source": [
    "## What variables do I have???"
   ]
  },
  {
   "cell_type": "code",
   "execution_count": 171,
   "metadata": {
    "collapsed": false
   },
   "outputs": [
    {
     "name": "stdout",
     "output_type": "stream",
     "text": [
      "LISTS \n",
      "\n",
      "daily_engagement = list of dicts with keys:  \n",
      "     [u'lessons_completed', u'num_courses_visited', u'total_minutes_visited', u'projects_completed', 'account_key', u'utc_date'] \n",
      "\n",
      "enrollments = list of dicts with keys:  \n",
      "     [u'status', u'is_udacity', u'is_canceled', u'join_date', u'account_key', u'cancel_date', u'days_to_cancel'] \n",
      "\n",
      "non_udacity_engagement = list of dicts with keys:  \n",
      "     [u'lessons_completed', u'num_courses_visited', u'total_minutes_visited', u'projects_completed', 'account_key', u'utc_date'] \n",
      "\n",
      "non_udacity_enrollments = list of dicts with keys:  \n",
      "     [u'status', u'is_udacity', u'is_canceled', u'join_date', u'account_key', u'cancel_date', u'days_to_cancel'] \n",
      "\n",
      "non_udacity_submissions = list of dicts with keys:  \n",
      "     [u'lesson_key', u'processing_state', u'account_key', u'assigned_rating', u'completion_date', u'creation_date'] \n",
      "\n",
      "paid_engagement_in_first_week = list of dicts with keys:  \n",
      "     [u'lessons_completed', u'num_courses_visited', u'total_minutes_visited', u'projects_completed', 'account_key', u'utc_date'] \n",
      "\n",
      "project_submissions = list of dicts with keys:  \n",
      "     [u'lesson_key', u'processing_state', u'account_key', u'assigned_rating', u'completion_date', u'creation_date'] \n",
      "\n",
      "paid_submissions = list of dicts with keys:  \n",
      "     [u'lesson_key', u'processing_state', u'account_key', u'assigned_rating', u'completion_date', u'creation_date'] \n",
      "\n",
      "paid_enrollments = list of dicts with keys:  \n",
      "     [u'status', u'is_udacity', u'is_canceled', u'join_date', u'account_key', u'cancel_date', u'days_to_cancel'] \n",
      "\n",
      "paid_engagement = list of dicts with keys:  \n",
      "     [u'lessons_completed', u'num_courses_visited', u'total_minutes_visited', u'projects_completed', 'account_key', u'utc_date'] \n",
      "\n",
      "\n",
      "\n",
      "DICTS \n",
      "\n",
      "engagement_by_account = dict with 'user_account's as keys and a list of all engagement data for the first week (from 'paid_engagement_in_first_week') as the associated values. \n",
      "\n",
      "paid_students = dict containing all students who either haven't canceled yet or who remained enrolled for more than 7 days. The keys are 'account_key's and the values are the date the sudent enrolled.  \n",
      "\n",
      "total_minutes_by_account = dict with the total minutes each student spent in the classroom during the first week.  The keys are 'account_key's and the values are the total minutes. \n",
      "\n",
      "\n",
      "\n",
      "SETS \n",
      "\n",
      "engagement_set = the unique 'account_key's in daily_engagement \n",
      "\n",
      "enrollment_set = the unique 'account_key's in enrollments \n",
      "\n",
      "submission_set = the unique 'account_key's in project_submissions \n",
      "\n",
      "udacity_test_accounts = a set of the account keys for all Udacity test accounts \n",
      "\n"
     ]
    }
   ],
   "source": [
    "# WHAT VARIABLES DO I HAVE???\n",
    "#print \"engagement_by_account: \", engagement_by_account.items()[0][1][0]\n",
    "print \"LISTS\", \"\\n\"\n",
    "print \"daily_engagement = list of dicts with keys: \", \"\\n    \", daily_engagement[0].keys(), \"\\n\"\n",
    "print \"enrollments = list of dicts with keys: \", \"\\n    \", enrollments[0].keys(), \"\\n\"\n",
    "print \"non_udacity_engagement = list of dicts with keys: \", \"\\n    \", non_udacity_engagement[0].keys(), \"\\n\"\n",
    "print \"non_udacity_enrollments = list of dicts with keys: \", \"\\n    \", non_udacity_enrollments[0].keys(), \"\\n\"\n",
    "print \"non_udacity_submissions = list of dicts with keys: \", \"\\n    \", non_udacity_submissions[0].keys(), \"\\n\"\n",
    "print \"paid_engagement_in_first_week = list of dicts with keys: \", \"\\n    \", paid_engagement_in_first_week[0].keys(), \"\\n\"\n",
    "print \"project_submissions = list of dicts with keys: \", \"\\n    \", project_submissions[0].keys(), \"\\n\"\n",
    "print \"paid_submissions = list of dicts with keys: \", \"\\n    \", paid_submissions[0].keys(), \"\\n\"\n",
    "print \"paid_enrollments = list of dicts with keys: \", \"\\n    \", paid_enrollments[0].keys(), \"\\n\"\n",
    "print \"paid_engagement = list of dicts with keys: \", \"\\n    \", paid_engagement[0].keys(), \"\\n\\n\\n\"\n",
    "\n",
    "print \"DICTS\", \"\\n\"\n",
    "print \"engagement_by_account = dict with 'user_account's as keys and a list of all engagement data for the first week (from 'paid_engagement_in_first_week') as the associated values.\", \"\\n\"\n",
    "print \"paid_students = dict containing all students who either haven't canceled yet or who remained enrolled for more than 7 days. The keys are 'account_key's and the values are the date the sudent enrolled. \", \"\\n\"\n",
    "print \"total_minutes_by_account = dict with the total minutes each student spent in the classroom during the first week.  The keys are 'account_key's and the values are the total minutes.\", \"\\n\\n\\n\"\n",
    "# The keys are account keys, and the values are numbers (total minutes)\", \"\\n\", total_minutes_by_account.items()[0]\n",
    "\n",
    "print \"SETS\", \"\\n\"\n",
    "print \"engagement_set = the unique 'account_key's in daily_engagement\", \"\\n\"\n",
    "print \"enrollment_set = the unique 'account_key's in enrollments\", \"\\n\"\n",
    "print \"submission_set = the unique 'account_key's in project_submissions\", \"\\n\"\n",
    "print \"udacity_test_accounts = a set of the account keys for all Udacity test accounts\", \"\\n\""
   ]
  },
  {
   "cell_type": "markdown",
   "metadata": {},
   "source": [
    "## Debugging Data Analysis Code"
   ]
  },
  {
   "cell_type": "code",
   "execution_count": 172,
   "metadata": {
    "collapsed": false
   },
   "outputs": [],
   "source": [
    "#####################################\n",
    "#                 8                 #\n",
    "#####################################\n",
    "\n",
    "## Go through a similar process as before to see if there is a problem.\n",
    "## Locate at least one surprising piece of data, output it, and take a look at it.\n",
    "\n",
    "for key, val in total_minutes_by_account.items():\n",
    "    if val < 0 or val > 60*24*7:\n",
    "        print \"\\n\", engagement_by_account[key][0]['account_key']\n",
    "        for x in engagement_by_account[key]:\n",
    "            print \"  \", x['total_minutes_visited']"
   ]
  },
  {
   "cell_type": "markdown",
   "metadata": {},
   "source": [
    "## Lessons Completed in First Week"
   ]
  },
  {
   "cell_type": "code",
   "execution_count": 178,
   "metadata": {
    "collapsed": false
   },
   "outputs": [
    {
     "name": "stdout",
     "output_type": "stream",
     "text": [
      "Mean: 1.63618090452\n",
      "Standard deviation: 3.00256129983\n",
      "Minimum: 0\n",
      "Maximum: 36\n"
     ]
    }
   ],
   "source": [
    "#####################################\n",
    "#                 9                 #\n",
    "#####################################\n",
    "\n",
    "## Adapt the code above to find the mean, standard deviation, minimum, and maximum for\n",
    "## the number of lessons completed by each student during the first week. Try creating\n",
    "## one or more functions to re-use the code above.\n",
    "\n",
    "def total_by_account(key, data):\n",
    "    '''A function to compute the total of <key> for each user'''\n",
    "    totals = {}\n",
    "    for account_key, records in data.items():\n",
    "        total = 0\n",
    "        for record in records:\n",
    "            total += record[key]\n",
    "        totals[account_key] = total\n",
    "    return totals\n",
    "\n",
    "lessons_by_account = total_by_account('lessons_completed', engagement_by_account)\n",
    "\n",
    "# Summarize the data about minutes spent in the classroom\n",
    "print 'Mean:', np.mean(lessons_by_account.values())\n",
    "print 'Standard deviation:', np.std(lessons_by_account.values())\n",
    "print 'Minimum:', np.min(lessons_by_account.values())\n",
    "print 'Maximum:', np.max(lessons_by_account.values())"
   ]
  },
  {
   "cell_type": "code",
   "execution_count": 121,
   "metadata": {
    "collapsed": false
   },
   "outputs": [
    {
     "name": "stdout",
     "output_type": "stream",
     "text": [
      " Mean: 647.590173826\n",
      "Standard deviation: 1129.27121042\n",
      "Minimum: 0.0\n",
      "Maximum: 10568.1008673\n",
      "\n",
      "\n",
      "Mean: 3.09246231156\n",
      "Standard deviation: 5.36276886663\n",
      "Minimum: 0\n",
      "Maximum: 43\n"
     ]
    }
   ],
   "source": [
    "## From the instructor\n",
    "from collections import defaultdict\n",
    "import numpy as np\n",
    "\n",
    "def group_data(data, key_name):\n",
    "    grouped_data = defaultdict(list)\n",
    "    for data_point in data:\n",
    "        key = data_point[key_name]\n",
    "        grouped_data[key].append(data_point)\n",
    "    return grouped_data\n",
    "\n",
    "engagement_by_account = group_data(paid_engagement_in_first_week,'account_key')\n",
    "\n",
    "def sum_grouped_items(grouped_data, field_name):\n",
    "    summed_data = {}\n",
    "    for key, data_points in grouped_data.items():\n",
    "        total = 0\n",
    "        for data_point in data_points:\n",
    "            total += data_point[field_name]\n",
    "        summed_data[key] = total\n",
    "    return summed_data\n",
    "\n",
    "def describe_data(data):\n",
    "    print 'Mean:', np.mean(data)\n",
    "    print 'Standard deviation:', np.std(data)\n",
    "    print 'Minimum:', np.min(data)\n",
    "    print 'Maximum:', np.max(data)\n",
    "    \n",
    "total_minutes_by_account = sum_grouped_items(engagement_by_account,'total_minutes_visited')\n",
    "describe_data(total_minutes_by_account.values())\n",
    "print \"\\n\"\n",
    "\n",
    "lessons_completed_by_account = sum_grouped_items(engagement_by_account,'lessons_completed')\n",
    "describe_data(lessons_completed_by_account.values())"
   ]
  },
  {
   "cell_type": "markdown",
   "metadata": {},
   "source": [
    "## Number of Visits in First Week"
   ]
  },
  {
   "cell_type": "code",
   "execution_count": 200,
   "metadata": {
    "collapsed": false
   },
   "outputs": [
    {
     "name": "stdout",
     "output_type": "stream",
     "text": [
      "Mean: 2.86733668342\n",
      "Standard deviation: 2.25519800292\n",
      "Minimum: 0\n",
      "Maximum: 7\n"
     ]
    }
   ],
   "source": [
    "######################################\n",
    "#                 10                 #\n",
    "######################################\n",
    "\n",
    "## Find the mean, standard deviation, minimum, and maximum for the number of\n",
    "## days each student visits the classroom during the first week.\n",
    "\n",
    "# add a 'has_visited' key to engagement_by_account\n",
    "for account_key, engagement_records in engagement_by_account.items():\n",
    "    for engagement_record in engagement_records:\n",
    "            engagement_record['has_visited'] = int(engagement_record['num_courses_visited'] > 0)\n",
    "            \n",
    "days_by_account = total_by_account('has_visited', engagement_by_account)\n",
    "\n",
    "# Summarize the data about minutes spent in the classroom\n",
    "print 'Mean:', np.mean(days_by_account.values())\n",
    "print 'Standard deviation:', np.std(days_by_account.values())\n",
    "print 'Minimum:', np.min(days_by_account.values())\n",
    "print 'Maximum:', np.max(days_by_account.values())"
   ]
  },
  {
   "cell_type": "markdown",
   "metadata": {},
   "source": [
    "## Splitting out Passing Students"
   ]
  },
  {
   "cell_type": "code",
   "execution_count": 177,
   "metadata": {
    "collapsed": false
   },
   "outputs": [
    {
     "name": "stdout",
     "output_type": "stream",
     "text": [
      "4527\n",
      "2392\n"
     ]
    }
   ],
   "source": [
    "######################################\n",
    "#                 11                 #\n",
    "######################################\n",
    "\n",
    "## Create two lists of engagement data for paid students in the first week.\n",
    "## The first list should contain data for students who eventually pass the\n",
    "## subway project, and the second list should contain data for students\n",
    "## who do not.\n",
    "\n",
    "subway_project_lesson_keys = ['746169184', '3176718735']\n",
    "ratings = ['DISTINCTION', 'PASSED']\n",
    "\n",
    "# paid_submissions\n",
    "passed = set()\n",
    "for x in paid_submissions:\n",
    "    if x['lesson_key'] in subway_project_lesson_keys and x['assigned_rating'] in ratings:\n",
    "        passed.add(x['account_key'])\n",
    "#for x in paid_engagement_in_first_week:\n",
    "#    if x['lesson_key'] in subway_project_lesson_keys and x['assigned_rating'] in ratings:\n",
    "#        passed.add(x['account_key'])\n",
    "\n",
    "passing_engagement = [x for x in paid_engagement_in_first_week if x['account_key'] in passed]\n",
    "non_passing_engagement = [x for x in paid_engagement_in_first_week if x['account_key'] not in passed]\n",
    "\n",
    "print len(passing_engagement)\n",
    "print len(non_passing_engagement)"
   ]
  },
  {
   "cell_type": "markdown",
   "metadata": {},
   "source": [
    "## Comparing the Two Student Groups"
   ]
  },
  {
   "cell_type": "code",
   "execution_count": 221,
   "metadata": {
    "collapsed": false
   },
   "outputs": [],
   "source": [
    "######################################\n",
    "#                 12                 #\n",
    "######################################\n",
    "\n",
    "## Compute some metrics you're interested in and see how they differ for\n",
    "## students who pass the subway project vs. students who don't. A good\n",
    "## starting point would be the metrics we looked at earlier (minutes spent\n",
    "## in the classroom, lessons completed, and days visited).\n",
    "\n",
    "minutes1 = sum_grouped_items(group_data(passing_engagement,'account_key'),'total_minutes_visited').values()\n",
    "minutes2 = sum_grouped_items(group_data(non_passing_engagement,'account_key'),'total_minutes_visited').values()\n",
    "\n",
    "lessons1 = sum_grouped_items(group_data(passing_engagement,'account_key'),'lessons_completed').values()\n",
    "lessons2 = sum_grouped_items(group_data(non_passing_engagement,'account_key'),'lessons_completed').values()\n",
    "\n",
    "days1 = [val for key, val in days_by_account.items() if key in passed]\n",
    "days2 = [val for key, val in days_by_account.items() if key not in passed]"
   ]
  },
  {
   "cell_type": "markdown",
   "metadata": {},
   "source": [
    "## Making Histograms"
   ]
  },
  {
   "cell_type": "code",
   "execution_count": 214,
   "metadata": {
    "collapsed": false
   },
   "outputs": [
    {
     "name": "stdout",
     "output_type": "stream",
     "text": [
      "Populating the interactive namespace from numpy and matplotlib\n"
     ]
    },
    {
     "data": {
      "text/plain": [
       "(array([ 272.,   34.,   17.,    9.,    6.,    2.,    1.,    5.,    0.,    2.]),\n",
       " array([    0.        ,   176.85227493,   353.70454987,   530.5568248 ,\n",
       "          707.40909973,   884.26137467,  1061.1136496 ,  1237.96592453,\n",
       "         1414.81819947,  1591.6704744 ,  1768.52274933]),\n",
       " <a list of 10 Patch objects>)"
      ]
     },
     "execution_count": 214,
     "metadata": {},
     "output_type": "execute_result"
    },
    {
     "data": {
      "image/png": "[encoded data removed]",
      "text/plain": [
       "<matplotlib.figure.Figure at 0x3eae390>"
      ]
     },
     "metadata": {},
     "output_type": "display_data"
    }
   ],
   "source": [
    "######################################\n",
    "#                 13                 #\n",
    "######################################\n",
    "\n",
    "## Make histograms of the three metrics we looked at earlier for both\n",
    "## students who passed the subway project and students who didn't. You\n",
    "## might also want to make histograms of any other metrics you examined.\n",
    "\n",
    "import matplotlib.pyplot as plt\n",
    "%pylab inline\n",
    "plt.hist(minutes1)\n",
    "plt.hist(minutes2)"
   ]
  },
  {
   "cell_type": "code",
   "execution_count": 215,
   "metadata": {
    "collapsed": false
   },
   "outputs": [
    {
     "name": "stdout",
     "output_type": "stream",
     "text": [
      "Populating the interactive namespace from numpy and matplotlib\n"
     ]
    },
    {
     "data": {
      "text/plain": [
       "(array([ 317.,   17.,    6.,    4.,    1.,    1.,    0.,    1.,    0.,    1.]),\n",
       " array([  0. ,   2.7,   5.4,   8.1,  10.8,  13.5,  16.2,  18.9,  21.6,\n",
       "         24.3,  27. ]),\n",
       " <a list of 10 Patch objects>)"
      ]
     },
     "execution_count": 215,
     "metadata": {},
     "output_type": "execute_result"
    },
    {
     "data": {
      "image/png": "[encoded data removed]",
      "text/plain": [
       "<matplotlib.figure.Figure at 0x229c4e48>"
      ]
     },
     "metadata": {},
     "output_type": "display_data"
    }
   ],
   "source": [
    "%pylab inline\n",
    "plt.hist(lessons1)\n",
    "plt.hist(lessons2)"
   ]
  },
  {
   "cell_type": "code",
   "execution_count": 222,
   "metadata": {
    "collapsed": false
   },
   "outputs": [
    {
     "name": "stdout",
     "output_type": "stream",
     "text": [
      "Populating the interactive namespace from numpy and matplotlib\n"
     ]
    },
    {
     "data": {
      "text/plain": [
       "(array([ 97.,  90.,  56.,   0.,  41.,  15.,   0.,  24.,  17.,   8.]),\n",
       " array([ 0. ,  0.7,  1.4,  2.1,  2.8,  3.5,  4.2,  4.9,  5.6,  6.3,  7. ]),\n",
       " <a list of 10 Patch objects>)"
      ]
     },
     "execution_count": 222,
     "metadata": {},
     "output_type": "execute_result"
    },
    {
     "data": {
      "image/png": "[encoded data removed]",
      "text/plain": [
       "<matplotlib.figure.Figure at 0x233b9390>"
      ]
     },
     "metadata": {},
     "output_type": "display_data"
    }
   ],
   "source": [
    "%pylab inline\n",
    "plt.hist(days1)\n",
    "plt.hist(days2)"
   ]
  },
  {
   "cell_type": "markdown",
   "metadata": {},
   "source": [
    "## Improving Plots and Sharing Findings"
   ]
  },
  {
   "cell_type": "code",
   "execution_count": null,
   "metadata": {
    "collapsed": true
   },
   "outputs": [],
   "source": [
    "######################################\n",
    "#                 14                 #\n",
    "######################################\n",
    "\n",
    "## Make a more polished version of at least one of your visualizations\n",
    "## from earlier. Try importing the seaborn library to make the visualization\n",
    "## look better, adding axis labels and a title, and changing one or more\n",
    "## arguments to the hist() function."
   ]
  }
 ],
 "metadata": {
  "kernelspec": {
   "display_name": "Python 2",
   "language": "python",
   "name": "python2"
  },
  "language_info": {
   "codemirror_mode": {
    "name": "ipython",
    "version": 2
   },
   "file_extension": ".py",
   "mimetype": "text/x-python",
   "name": "python",
   "nbconvert_exporter": "python",
   "pygments_lexer": "ipython2",
   "version": "2.7.11"
  }
 },
 "nbformat": 4,
 "nbformat_minor": 0
}
